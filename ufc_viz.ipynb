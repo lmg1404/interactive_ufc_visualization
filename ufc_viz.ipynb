{
 "cells": [
  {
   "cell_type": "markdown",
   "id": "5c24fdd4-db48-44b2-86fc-7cc694f0548e",
   "metadata": {},
   "source": [
    "# UFC Fighter Performance Metric Exploration\n",
    "\n",
    "I wrestled back in highschool, and since then I kept up with UFC since I think it's very entertaining at the high level. I haven't explored the data provided before, so this is my first time doing so. I dove into the data set [(link)](https://www.kaggle.com/datasets/danmcinerney/mma-differentials-and-elo?rvi=1) provided and we can see trends based on fighters, their wins and losses, different divisions, and the method of winning or losing."
   ]
  },
  {
   "cell_type": "markdown",
   "id": "f22ea143-7c96-494f-965e-15158a6ae671",
   "metadata": {},
   "source": [
    "## Technique: Scatterplot\n",
    "\n",
    "I opted for the scatterplot since it made the most sense with this data. Using something like a bar chart will get pretty cluttered really fast, especially on the initialization of the plot. Using a line plot was also an option, but when selecting wins or loss or both, it didn't really make sense to me at the time of constructing this visualization. \n",
    "\n",
    "Scatterplots plot an X vs. Y relationship where each data point is a unique bout in this case. On initialization you may realize that some points may overlay on each other, which means that the fights took place on the same day and the fighters had similar performance metrics in their fights. In this visualization the X-axis will always be the date since it didn't make sense to use any other data type since the goal is show fighter improvement/comparison. The Y-axis will be the up to the user to select "
   ]
  },
  {
   "cell_type": "markdown",
   "id": "46c07d25-b30f-4918-b4ee-37e3550baa33",
   "metadata": {},
   "source": [
    "## Library: Bokeh\n",
    "\n",
    "Bokeh is an open source library for creating interactive Java-Script powered visualizations in web browswers from simple plots, like scatter plots, to dashboards which can be found in their demo tab on their website [link](https://demo.bokeh.org/). Bokeh is maintained on GitHub and is recommended if a user finds a bug to report it to the GitHub for developers to fix. [website](https://bokeh.org/)\n",
    "\n",
    "I looked at other alternatives, mainly Plotly and Altair/Vega, but I chose this one since I wanted experience with a new library I've never seen before, and I would've liked to make it interactive. I didn't choose Altair/Vega due to my previous experience with in is 522. Another plus that I saw to Bokeh is that I could practice JavaScript/CSS, but I only used it in one line in this project. In future projects, I think a more complex dashboard would require more of these languages.\n",
    "\n",
    "In this project I really only used bokeh.circle, which does as one would expect, which would be draw circles on a grid, making a scatter plot. There is a caveat though, this is a low level version of the bokeh.scatter, but offers more customizability by changing the shape, and we can pass through arguments for different colors on different data points."
   ]
  },
  {
   "cell_type": "markdown",
   "id": "007ca4d6-e3ad-4f8c-9c43-ff073e14e6d7",
   "metadata": {},
   "source": [
    "### Install Bokeh\n",
    "\n",
    "Pip:\n",
    ">$ pip install bokeh\n",
    "\n",
    "Conda:\n",
    ">$ conda install bokeh"
   ]
  },
  {
   "cell_type": "markdown",
   "id": "5db32697-f6f9-452c-a703-b4eb4fcfc9c1",
   "metadata": {},
   "source": [
    "## Import Libraries and Dependencies"
   ]
  },
  {
   "cell_type": "code",
   "execution_count": null,
   "id": "2ed85018-67a7-4915-a588-cd6f0e008be3",
   "metadata": {},
   "outputs": [],
   "source": [
    "import pandas as pd\n",
    "from bokeh.plotting import figure, output_file, show, save\n",
    "from bokeh.layouts import column, row\n",
    "from bokeh.models.tools import HoverTool\n",
    "from bokeh.models.widgets import Select\n",
    "from bokeh.models import (ColumnDataSource, RadioButtonGroup, GroupFilter, Column, Row, Div, HoverTool, MultiChoice)\n",
    "from bokeh.io import curdoc, output_notebook\n",
    "from bokeh.application.handlers.function import FunctionHandler\n",
    "from bokeh.application import Application\n",
    "from bokeh.resources import INLINE"
   ]
  },
  {
   "cell_type": "markdown",
   "id": "775f23a3-8e07-42f4-9223-db7a7ef0aba3",
   "metadata": {},
   "source": [
    "## Data Manipulation and Collection\n",
    "\n",
    "The data is from the following [link](https://www.kaggle.com/datasets/danmcinerney/mma-differentials-and-elo?rvi=1), and is a pretty clean file already. All we have to do is read, turn the dates into pandas datetime, make a colors column, map wins and losses, and fix time formats. All we have to do it go to the page and click download. After that a zip file will be downloaded. Extract the files and notice that one is a very large file, we don't care about that so you can go ahead and delete it. We only care about the CSV labeled masterdataframe.csv.\n",
    "\n",
    "We need a colors column due to the information we are going to be passing into bokeh.circle in the future. We want to differentiate between wins and losses of fighters, otherwise it all be 1 homogenous color. The data frame contains a 0 for losing and a 1 for winning, we should map this to text since we want our legent to be readable and not a 0 and 1. Time formats are based on the current UFC ruling where main events and championship fights are 5 rounds, and all other are 3 rounds. Before the UFC adopted this rule there were a multitude of different time formats, some of them unsafe like a no time limit. I chose to omit all other time formats that are not 3 or 5 rounds due to transfering this knowledge into the modern day and not some arbitrary time."
   ]
  },
  {
   "cell_type": "code",
   "execution_count": null,
   "id": "72d2ed1e-a107-45c1-9fb6-6743d13381f9",
   "metadata": {},
   "outputs": [],
   "source": [
    "def get_dataframe() -> pd.DataFrame: \n",
    "    \"\"\"Gets the data we will be using and cleans it for use\"\"\"\n",
    "    \n",
    "    data = pd.read_csv('masterdataframe.csv')\n",
    "    data['date'] = pd.to_datetime(data['date'])\n",
    "    data['colors'] = ['#FF3131' if category == 0 else '#1F51FF' for category in data['result']]\n",
    "    data['result'].replace({0:'Loss', 1:'Win'}, inplace=True)\n",
    "    data = data[data['time_format'].isin(['5-5-5-5-5', '5-5-5'])]\n",
    "    \n",
    "    return data"
   ]
  },
  {
   "cell_type": "code",
   "execution_count": null,
   "id": "82828451-a178-468b-aebe-7c98920c9a99",
   "metadata": {},
   "outputs": [],
   "source": [
    "data = get_dataframe()\n",
    "data"
   ]
  },
  {
   "cell_type": "markdown",
   "id": "3c5a680f-4d7a-473e-b7cf-5e8a8dbaa570",
   "metadata": {},
   "source": [
    "You can see that we have 12886 data points with a whopping 531 columns! We don't care about a majority of these columns since the raw numbers are in the dataframe, like number of significant strikes. Said columns are some sort of aggregation the the raw columns, for example, significant strike accuracy is significant strikes landed divided by significant strikes attempted. We also have urls, but those just go to a webpage containing the metrics, so we are also not going to use this either."
   ]
  },
  {
   "cell_type": "markdown",
   "id": "39fac47a-48d4-4535-b4ab-9634af21cd03",
   "metadata": {},
   "source": [
    "# Plotting the Data\n",
    "\n",
    "First I'm going to show the method of plotting using bokeh.circle, point out the room for improvement, then give a step by step on how to make the interactive plot. So Bokeh is declaritive so we must be pretty verbose with what we want.\n",
    "\n",
    "Our first step is to output to the notebook, which tells the library we are using Jupyter Notebooks, so the plot must be inline.\n",
    "\n",
    "Next we have to make a figure on which we will plot, this is similar to MatplotLib where we plot on figures. We must declare our x-axis is a datetime, otherwise Bokeh will make some nasty numbers that don't make any sense.\n",
    "\n",
    "We have to initialize a ColumnDataSource object so that Bokeh can easily read data points and plot. This comes in handy later when we want to make the plot interactive.\n",
    "\n",
    "Lastly we plot. This is similar to Altair where we have to declare the columns for x and y axes, then declare our source. \n",
    "\n",
    "We use curdoc for handling, and then we show using show(p)"
   ]
  },
  {
   "cell_type": "code",
   "execution_count": null,
   "id": "ee08f81e-62e3-4762-ba29-e422045f8e00",
   "metadata": {},
   "outputs": [],
   "source": [
    "output_notebook()\n",
    "p = figure(height=600, title=\"Basic UFC Viz\", sizing_mode=\"stretch_width\", x_axis_type='datetime')\n",
    "p.xaxis.axis_label = \"Date\"\n",
    "p.yaxis.axis_label = \"sig_strikes_landed\"\n",
    "source = ColumnDataSource(data)\n",
    "p.circle(x=\"date\", y=\"sig_strikes_landed\", source=source, size=7)\n",
    "curdoc()\n",
    "show(p)"
   ]
  },
  {
   "cell_type": "markdown",
   "id": "b026aa7b-81de-4b16-8860-efa8f542a4c1",
   "metadata": {},
   "source": [
    "Nice, but we didn't include the colors, lets add that and see what happens with a legend field and see what happens."
   ]
  },
  {
   "cell_type": "code",
   "execution_count": null,
   "id": "140ec584-3cba-48f4-9390-e5323ddb0f1f",
   "metadata": {},
   "outputs": [],
   "source": [
    "output_notebook()\n",
    "p = figure(height=600, title=\"Basic UFC Viz\", sizing_mode=\"stretch_width\", x_axis_type='datetime')\n",
    "p.xaxis.axis_label = \"Date\"\n",
    "p.yaxis.axis_label = \"sig_strikes_landed\"\n",
    "source = ColumnDataSource(data)\n",
    "p.circle(x=\"date\", y=\"sig_strikes_landed\", source=source, size=7, color=\"colors\", legend_field='result')\n",
    "curdoc()\n",
    "show(p)"
   ]
  },
  {
   "cell_type": "markdown",
   "id": "3672f508-96be-431d-b2a3-1b41fffc9b9f",
   "metadata": {},
   "source": [
    "So this doesn't really tell us much. What if we look at one particular fighter?\n",
    "\n",
    "Lets look at Connor McGregor"
   ]
  },
  {
   "cell_type": "code",
   "execution_count": null,
   "id": "c0916167-fc39-4719-ac0e-1febb06030d2",
   "metadata": {},
   "outputs": [],
   "source": [
    "output_notebook()\n",
    "p = figure(height=600, title=\"Basic UFC Viz\", sizing_mode=\"stretch_width\", x_axis_type='datetime')\n",
    "p.xaxis.axis_label = \"Date\"\n",
    "p.yaxis.axis_label = \"sig_strikes_landed\"\n",
    "source = ColumnDataSource(data[data[\"fighter\"] == \"Conor McGregor\"])\n",
    "p.circle(x=\"date\", y=\"sig_strikes_landed\", source=source, size=7, color=\"colors\", legend_field='result')\n",
    "curdoc()\n",
    "show(p)"
   ]
  },
  {
   "cell_type": "markdown",
   "id": "a4a48cd4-c04e-4d4f-8499-c1b1e176c408",
   "metadata": {},
   "source": [
    "## The Interactive Plot\n",
    "\n",
    "So this is where I got the idea for an interactive visualization. I'd like to see different categories of fighters with certain criteria on how they won or lost. I'd like to filter based on fighters, metrics, methods of winning/losing, division/weight class, and if the fighter wins or loses.\n",
    "\n",
    "## Note on the Interactive Plot\n",
    "\n",
    "After extensive testing with Coursera, I couldn't get the plot to work inline. I **do not** recommend running any of the lines below since they caused my Coursera environment to crash over and over. **However**, you should run the commmand line prompt and play with the graphic. What the prompt does is start a local server so that everyone can use this. I've tested this in the Coursera environment and it worked!"
   ]
  },
  {
   "cell_type": "markdown",
   "id": "4844865f-3643-4b85-be33-5891aad500a2",
   "metadata": {},
   "source": [
    "### Widgets\n",
    "\n",
    "First we need to get our choice for our widgets.\n",
    "\n",
    "The list of fighters, methods, and divisions are the most intuitive where it's the unique value in each column.\n",
    "\n",
    "The metrics we can choose from are only available in a certain subset of columns, so we use slicing techniques to get them.\n",
    "\n",
    "I didn't think anyone would want to see underscores in the choices for metrics, so I made a dictionary to map choices onto the column. We will split the string using the underscores, then when we join them we will capitalize each word once again."
   ]
  },
  {
   "cell_type": "code",
   "execution_count": null,
   "id": "c2da8c15-a9bd-40d3-891a-edc368778db7",
   "metadata": {},
   "outputs": [],
   "source": [
    "# vars\n",
    "fighter_list = sorted(list(data['fighter'].unique()))\n",
    "stats = list(data.columns[21:42])  # we don't care about accuracies, everything else is some sort of aggregation of these columns\n",
    "method_options = list(data['method'].unique())\n",
    "division_list = list(data['division'].unique())\n",
    "stat_map = {}\n",
    "for stat in stats:\n",
    "    stat_map[\" \".join(word.capitalize() for word in stat.split(\"_\"))] = stat"
   ]
  },
  {
   "cell_type": "markdown",
   "id": "d5859d10-39c0-4fec-bb93-cf688411dbf0",
   "metadata": {},
   "source": [
    "Next we have to make the widgets themselves.\n",
    "\n",
    "Our title is a div element in HTML, since this is a web based plotting library. If you don't know what a div is, it's just a division of a website. You can think of it like the cells in a notebook, but on a webpage they are much more compartmentalized. Think of the different parts of your Google search, you may be able to draw out different segments of the web pages and those could be called divs.\n",
    "\n",
    "Multichoice allows users to select or type of the fighter they want to see. A dropdown didn't make much sense here since there are 500+ fighters to choose from, so we should type.\n",
    "\n",
    "The metrics choice is a dropdown since it's much more manageable to see what we can choose. The same goes for method and division. \n",
    "\n",
    "Lastly we have the choice of winning, lossing, or all. This comes in the form of a radio button. Radio buttons give the users a choice where only one element maybe selected. If given the choice apples, oranges, and bananas, I must choose apples, oranges, or bananas."
   ]
  },
  {
   "cell_type": "code",
   "execution_count": null,
   "id": "f45741c6-03db-45ca-b8a0-438d50abdb11",
   "metadata": {},
   "outputs": [],
   "source": [
    "# make input objects\n",
    "output_file(filename=\"custom_filename.html\", title=\"Static HTML file\")\n",
    "title = Div(text='<h1 style=\"text-align: center\">UFC Interactive Scatterplot Viz</h1>')\n",
    "fighter_button = MultiChoice(title=\"Fighter(s)\", options=fighter_list, option_limit=3, width=250)\n",
    "stats_axis = Select(title=\"Y-Axis\", options=sorted(stat_map.keys()), value='Sig Strikes Landed')\n",
    "method = Select(title=\"Method\", options=[\"Any\"] + method_options, value=\"Any\")\n",
    "division = Select(title=\"Division\", options=[\"All\"] + division_list, value=\"All\")\n",
    "win_or_loss = RadioButtonGroup(labels=[\"Any\", \"Wins\", \"Losses\"], active=0, styles={\"padding-top\": \"20px\"})\n",
    "\n",
    "TOOLTIPS = [\n",
    "        ('Fighter', '@fighter'),\n",
    "        ('Opponent', '@opponent'),\n",
    "        ('Result', '@result'),\n",
    "        ('Method', '@method'),\n",
    "        ('Date', '@date'),\n",
    "        ('Round', '@round'),\n",
    "        ('Time', '@time')\n",
    "        ]"
   ]
  },
  {
   "cell_type": "markdown",
   "id": "2a20e467-e0fe-4fa9-b257-589b00a2827d",
   "metadata": {},
   "source": [
    "### Initialization\n",
    "\n",
    "We have an empty source since we will be adding to it. These different columns in our source will be used for our tool tips.\n",
    "\n",
    "Creation of the figure and plot are similar to before."
   ]
  },
  {
   "cell_type": "code",
   "execution_count": null,
   "id": "43f2ab38-bcca-4e60-963f-eabe6e432c80",
   "metadata": {},
   "outputs": [],
   "source": [
    "source = ColumnDataSource(data=dict(date=[], y=[], color=[], fighter=[], opponent=[], result=[], method=[], round=[], time=[]))"
   ]
  },
  {
   "cell_type": "code",
   "execution_count": null,
   "id": "5f7909d0-bdc1-43e5-a5d7-7592e41e43f7",
   "metadata": {},
   "outputs": [],
   "source": [
    "output_notebook()\n",
    "p = figure(height=600, title=\"\", toolbar_location=None, sizing_mode=\"stretch_width\", x_axis_type='datetime')\n",
    "p.add_tools(HoverTool(tooltips=TOOLTIPS))\n",
    "p.circle(x=\"date\", y=\"y\", source=source, size=7, color=\"color\", legend_field='result')"
   ]
  },
  {
   "cell_type": "markdown",
   "id": "3dec16e7-b5cc-4a5a-9fc5-db3c1d5cff54",
   "metadata": {},
   "source": [
    "### Selecting Points and Updating\n",
    "\n",
    "Having a select function will allow use to easily put repeatable code into one line. This makes our update function more readable. This essentially tells our widgets to filter our data. For the **MultiChoice** widget, we have a value attribute which output in the form of a list.\n",
    "In our **Select** widgets, we also have value, and when they are set to Any or All, there is not filtering. Lastly is the **radio button** where the active is the number in the list. Since we initialized the list as (all, win, loss) the buttons value will return and index on where the pressed button is. When all is selected the value is 0 and there is no filtering.\n",
    "\n",
    "Update just updates the chart and source data based on the selected points. Notice that the Y-axis title will always change when the new metric is chosen."
   ]
  },
  {
   "cell_type": "code",
   "execution_count": null,
   "id": "3d4397e3-f1ae-41a9-bd18-86f04d98800e",
   "metadata": {},
   "outputs": [],
   "source": [
    "def select_points() -> pd.DataFrame():\n",
    "    if fighter_button.value:\n",
    "        df = data[data['fighter'].isin(fighter_button.value)] # in a select, but we only are selecting fighters\n",
    "    else:\n",
    "        df = data\n",
    "        \n",
    "    if method.value != \"Any\":\n",
    "        df = df[df['method'] == method.value]\n",
    "        \n",
    "    if division.value != \"All\":\n",
    "        df = df[df['division'] == division.value]\n",
    "\n",
    "    if win_or_loss.active == 1:\n",
    "        df = df[df['result'] == 'Win']\n",
    "\n",
    "    if win_or_loss.active == 2:\n",
    "        df = df[df['result'] == 'Loss']\n",
    "        \n",
    "    return df"
   ]
  },
  {
   "cell_type": "code",
   "execution_count": null,
   "id": "718348f5-50ec-4799-a8aa-961539188398",
   "metadata": {},
   "outputs": [],
   "source": [
    "def update():\n",
    "    df = select_points()\n",
    "    x_name = \"Date\"\n",
    "    y_name = stat_map[stats_axis.value]\n",
    "\n",
    "    p.xaxis.axis_label = \"Date\"\n",
    "    p.yaxis.axis_label = stats_axis.value\n",
    "\n",
    "    if fighter_button.value:\n",
    "        p.title.text = f\"{len(df)} Bouts of {stats_axis.value} by \" + \" \".join(fighter for fighter in fighter_button.value) + f\" by {method.value} in {division.value} division\"\n",
    "    else:\n",
    "        p.title.text = f\"{len(df)} Bouts of {stats_axis.value} by all Fighters by {method.value} in {division.value} division\"\n",
    "    source.data = dict(\n",
    "        date=df['date'],\n",
    "        y=df[y_name],\n",
    "        color=df['colors'],\n",
    "        fighter=df['fighter'],\n",
    "        opponent=df['opponent'],\n",
    "        result=df['result'],\n",
    "        method=df['method'],\n",
    "        round=df['round'],\n",
    "        time=df['time']\n",
    "    )"
   ]
  },
  {
   "cell_type": "markdown",
   "id": "b6ff86e0-620a-4453-a1f1-4d22fa7d2372",
   "metadata": {},
   "source": [
    "### Final Steps\n",
    "\n",
    "Lastly we have to set the widgets to actually work and be responsive, so we must connect them to the update function. We do this in the following cell below.\n",
    "\n",
    "We are going to put the widgets into a row where each is horizontal to each other. The line of code can be read as literal left to right in the order we set the controls. Update is there for initialization, and our final layout will be a column where it is also a literal from top to bottom.\n",
    "\n",
    "The modify doc function allows us to look at the visualization inline after passing through a handler, then we pass through the Application object to show the visualization."
   ]
  },
  {
   "cell_type": "code",
   "execution_count": null,
   "id": "22783d94-d793-4aa7-b7fb-337a4d58fcdb",
   "metadata": {},
   "outputs": [],
   "source": [
    "controls = [fighter_button, stats_axis, method, division]\n",
    "for control in controls:\n",
    "    control.on_change('value', lambda attr, old, new: update())\n",
    "win_or_loss.on_change('active', lambda attr, old, new: update())"
   ]
  },
  {
   "cell_type": "code",
   "execution_count": null,
   "id": "8286f1eb-f527-4384-9b9d-ccfa30119e58",
   "metadata": {},
   "outputs": [],
   "source": [
    "inputs = row(*controls, win_or_loss,  width=320)\n",
    "update()\n",
    "layout = column(title, p, inputs, sizing_mode=\"stretch_width\", height=800)"
   ]
  },
  {
   "cell_type": "code",
   "execution_count": null,
   "id": "4394aefa-2508-4776-9866-5ea0a3ae75a4",
   "metadata": {},
   "outputs": [],
   "source": [
    "def modify_doc(doc):\n",
    "    doc.add_root(row(layout, width=800))\n",
    "    doc.title = \"test\""
   ]
  },
  {
   "cell_type": "code",
   "execution_count": null,
   "id": "37543bb8-18b9-4187-a21a-43a068aaf6a0",
   "metadata": {},
   "outputs": [],
   "source": [
    "handler = FunctionHandler(modify_doc)\n",
    "app = Application(handler)\n",
    "show(app)"
   ]
  },
  {
   "cell_type": "markdown",
   "id": "5a628c01-c43f-44db-bb63-1aafb7dcfcb0",
   "metadata": {},
   "source": [
    "# This is the Cell You should Run"
   ]
  },
  {
   "cell_type": "code",
   "execution_count": null,
   "id": "6e7cb2af-337a-4945-a682-a6ad0ed2a52f",
   "metadata": {},
   "outputs": [],
   "source": [
    "!bokeh serve --show ufc_viz.py"
   ]
  },
  {
   "cell_type": "markdown",
   "id": "8806f052-c1fe-47e4-b32b-569ffe039233",
   "metadata": {},
   "source": [
    "![ufc_gif](ufc_demo.gif)"
   ]
  },
  {
   "cell_type": "code",
   "execution_count": null,
   "id": "83a8fb0d-e6c0-46af-a2d7-7f17611dd739",
   "metadata": {},
   "outputs": [],
   "source": []
  },
  {
   "cell_type": "code",
   "execution_count": null,
   "id": "39f22e00-8612-4993-b042-979d19580a0a",
   "metadata": {},
   "outputs": [],
   "source": []
  }
 ],
 "metadata": {
  "kernelspec": {
   "display_name": "Python 3 (ipykernel)",
   "language": "python",
   "name": "python3"
  },
  "language_info": {
   "codemirror_mode": {
    "name": "ipython",
    "version": 3
   },
   "file_extension": ".py",
   "mimetype": "text/x-python",
   "name": "python",
   "nbconvert_exporter": "python",
   "pygments_lexer": "ipython3",
   "version": "3.10.0"
  }
 },
 "nbformat": 4,
 "nbformat_minor": 5
}
